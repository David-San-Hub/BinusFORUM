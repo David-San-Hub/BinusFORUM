{
 "cells": [
  {
   "cell_type": "code",
   "execution_count": 3,
   "id": "e87ed35e",
   "metadata": {},
   "outputs": [
    {
     "name": "stdout",
     "output_type": "stream",
     "text": [
      "enter the radius of the circle:5\n",
      "radius 5.0\n",
      "area= 78.5\n"
     ]
    }
   ],
   "source": [
    "#1.Write a Python program which accepts the radius of a circle from the user and compute the area.\n",
    "r=float(input('enter the radius of the circle:'))\n",
    "area=3.14*(r**2)\n",
    "print('radius',r)\n",
    "print('area=',area)"
   ]
  },
  {
   "cell_type": "code",
   "execution_count": 4,
   "id": "67a648c8",
   "metadata": {},
   "outputs": [
    {
     "name": "stdout",
     "output_type": "stream",
     "text": [
      "enter your first name:David\n",
      "enter your last name:Santoso\n",
      "Santoso David\n"
     ]
    }
   ],
   "source": [
    "#2.Write a Python program which accepts the user's first and last name and print them in reverse order with space between them.\n",
    "first=input('enter your first name:')\n",
    "second=input('enter your last name:')\n",
    "print(second, first)"
   ]
  },
  {
   "cell_type": "code",
   "execution_count": 54,
   "id": "b77af11a",
   "metadata": {},
   "outputs": [
    {
     "name": "stdout",
     "output_type": "stream",
     "text": [
      "Red Black\n"
     ]
    }
   ],
   "source": [
    "#3.Write a Python program to display the first and last colors from the following list:\n",
    "#color_list = [\"Red\",\"Green\",\"White\",\"Black\"]\n",
    "color_list=['Red','Green','White','Black']\n",
    "print(color_list[0], color_list[-1])"
   ]
  },
  {
   "cell_type": "code",
   "execution_count": 6,
   "id": "475b893e",
   "metadata": {},
   "outputs": [
    {
     "name": "stdout",
     "output_type": "stream",
     "text": [
      "enter n:5\n",
      "155\n"
     ]
    }
   ],
   "source": [
    "#4.Write a Python program that accepts an integer (n) and computes the value of n+nn+nnn.\n",
    "n=int(input('enter n:'))\n",
    "n=n+n*n+n**3\n",
    "print(n)"
   ]
  },
  {
   "cell_type": "code",
   "execution_count": 7,
   "id": "9aa8b831",
   "metadata": {},
   "outputs": [
    {
     "name": "stdout",
     "output_type": "stream",
     "text": [
      "904.3199999999999\n"
     ]
    }
   ],
   "source": [
    "#5.Write a Python program to get the volume of a sphere with radius 6.\n",
    "#The volume of the sphere is : V = 4/3 × π × r3 = π × d3/6.\n",
    "r=6\n",
    "V=4/3*3.14*r**3\n",
    "print(V)"
   ]
  },
  {
   "cell_type": "code",
   "execution_count": 34,
   "id": "2f3d4eaf",
   "metadata": {},
   "outputs": [
    {
     "name": "stdout",
     "output_type": "stream",
     "text": [
      "insert a given number greater/equal/less than 17:20\n",
      "the double absolute difference between 20 and 17 is 6\n"
     ]
    }
   ],
   "source": [
    "#6.Write a Python program to get the difference between a given number and 17, if the number is greater than 17 return\n",
    "# double the absolute difference.\n",
    "num1=int(input('insert a given number greater/equal/less than 17:'))\n",
    "if(num1<17):\n",
    "    num2=17-num1\n",
    "    print('the difference between', num1,'and 17 is',num2)\n",
    "elif(num1==17):\n",
    "    print('the number is the same as 17')\n",
    "elif(num1>17):\n",
    "    num2=num1-17\n",
    "    num3=num2*2\n",
    "    print('the double absolute difference between',num1,'and 17 is',num3)"
   ]
  },
  {
   "cell_type": "code",
   "execution_count": 9,
   "id": "d9817e1a",
   "metadata": {},
   "outputs": [
    {
     "name": "stdout",
     "output_type": "stream",
     "text": [
      "insert 1st number:20\n",
      "insert 2nd number:30\n",
      "insert 3rd number:40\n",
      "sum of three given numbers is 90\n"
     ]
    }
   ],
   "source": [
    "#7.Write a Python program to calculate the sum of three given numbers, if the values are equal then return thrice of their sum.\n",
    "num1=int(input('insert 1st number:'))\n",
    "num2=int(input('insert 2nd number:'))\n",
    "num3=int(input('insert 3rd number:'))\n",
    "if(num1==num2==num3):\n",
    "    thrice=num1*3\n",
    "    print('thrice of the sum is',thrice)\n",
    "else:\n",
    "    total=num1+num2+num3\n",
    "    print('sum of three given numbers is',total)"
   ]
  },
  {
   "cell_type": "code",
   "execution_count": 17,
   "id": "3db24a9a",
   "metadata": {},
   "outputs": [
    {
     "name": "stdout",
     "output_type": "stream",
     "text": [
      "insert a number:25\n",
      "the number is odd\n"
     ]
    }
   ],
   "source": [
    "#8.Write a Python program to find whether a given number (accept from the user) is even or odd, print out an appropriate\n",
    "#message to the user.\n",
    "num1=int(input('insert a number:'))\n",
    "if(num1%2==0):\n",
    "    print('the number is even')\n",
    "elif(num1%2==1):\n",
    "    print('the number is odd')"
   ]
  },
  {
   "cell_type": "code",
   "execution_count": 25,
   "id": "a9be2fdf",
   "metadata": {},
   "outputs": [
    {
     "name": "stdout",
     "output_type": "stream",
     "text": [
      "input a letter of the alphabet: J\n",
      "J is a consonant\n"
     ]
    }
   ],
   "source": [
    "#9.Write a Python program to test whether a letter is a vowel or not.\n",
    "vow=input('enter a letter of the alphabet:')\n",
    "if vow in ('a','e','i','o','u','A','E','I','O','U'):\n",
    "    print(vow,'is a vowel')\n",
    "else:\n",
    "    print(vow,'is a consonant') "
   ]
  },
  {
   "cell_type": "code",
   "execution_count": 4,
   "id": "bf01ea2c",
   "metadata": {},
   "outputs": [
    {
     "name": "stdout",
     "output_type": "stream",
     "text": [
      "insert a value:4\n",
      "4 is contain in the group of values\n"
     ]
    }
   ],
   "source": [
    "#10.Write a Python program to check whether a specified value is contained in a group of values.\n",
    "val=input('insert a value:')\n",
    "if val in('1','3','4','6','7','9'):\n",
    "    print(val,'is contain in the group of values')\n",
    "else:\n",
    "    print(val,'is not contain in the group of values')"
   ]
  },
  {
   "cell_type": "code",
   "execution_count": 15,
   "id": "c6e81311",
   "metadata": {},
   "outputs": [
    {
     "name": "stdout",
     "output_type": "stream",
     "text": [
      "x\n",
      "xx\n",
      "xxx\n",
      "x\n",
      "xx\n",
      "xxx\n",
      "xxxx\n",
      "xxxxx\n",
      "xxxxxx\n",
      "x\n",
      "xx\n",
      "xxx\n",
      "xxxx\n",
      "xxxxx\n",
      "x\n",
      "xx\n",
      "xxx\n",
      "xxxx\n"
     ]
    }
   ],
   "source": [
    "#11.Write a Python program to create a histogram from a given list of integers.\n",
    "def histrogram(nums):\n",
    "    for x in nums:\n",
    "        output=''\n",
    "        while(x>0):\n",
    "            output=output+'x'\n",
    "            x=x-1\n",
    "            print(output)\n",
    "histrogram([3,6,5,4])"
   ]
  },
  {
   "cell_type": "code",
   "execution_count": 34,
   "id": "c2b7f281",
   "metadata": {
    "scrolled": true
   },
   "outputs": [
    {
     "name": "stdout",
     "output_type": "stream",
     "text": [
      "386\n",
      "462\n",
      "418\n",
      "344\n",
      "236\n",
      "566\n",
      "978\n",
      "328\n",
      "162\n",
      "758\n",
      "918\n",
      "412\n",
      "566\n",
      "826\n",
      "248\n",
      "866\n",
      "950\n",
      "626\n",
      "104\n",
      "58\n",
      "512\n",
      "24\n",
      "892\n",
      "894\n",
      "742\n",
      "958\n"
     ]
    }
   ],
   "source": [
    "#12.Write a Python program to print all even numbers from a given numbers list in the same order.\n",
    "#Sample numbers list :\n",
    "#numbers =\n",
    "#386, 462, 47, 418, 907, 344, 236, 375, 823, 566, 597, 978, 328, 615, 953, 345,\n",
    "#399, 162, 758, 219, 918, 237, 412, 566, 826, 248, 866, 950, 626, 949, 687, 217,\n",
    "#815, 67, 104, 58, 512, 24, 892, 894, 767, 553, 81, 379, 843, 831, 445, 742, 717,\n",
    "#958,743, 527\n",
    "num=[386,462,47,418,907,344,236,375,823,566,597,978,328,615,953,345,399,162,758,219,918,237,412,566,826,248,866,950,626,949,687,217,815,67,104,58,512,24,892,894,767,553,81,379,843,831,445,742,717,958,743,527]\n",
    "for x in num:\n",
    "    if (x%2==0):\n",
    "        print(x)"
   ]
  },
  {
   "cell_type": "code",
   "execution_count": 43,
   "id": "8d7550e5",
   "metadata": {},
   "outputs": [
    {
     "name": "stdout",
     "output_type": "stream",
     "text": [
      "enter base value in cm:7.5\n",
      "enter height value in cm:12.7\n",
      "area: 47.625 cm\n"
     ]
    }
   ],
   "source": [
    "#13.Write a Python program that will accept the base and height of a triangle and compute the area.\n",
    "base=float(input('enter base value in cm:'))\n",
    "height=float(input('enter height value in cm:'))\n",
    "area=float((base*height*0.5))\n",
    "print('area:',area,'cm')"
   ]
  },
  {
   "cell_type": "code",
   "execution_count": 6,
   "id": "8fa2229d",
   "metadata": {},
   "outputs": [
    {
     "name": "stdout",
     "output_type": "stream",
     "text": [
      "insert first positive integer:2\n",
      "insert second positive integer:3\n",
      "the LCM is 6\n"
     ]
    }
   ],
   "source": [
    "#14.Write a Python program to get the least common multiple (LCM) of two positive integers.\n",
    "x=int(input('insert first positive integer:'))\n",
    "y=int(input('insert second positive integer:'))\n",
    "c=x*y\n",
    "for i in range(1,c+1):\n",
    "     if(i%x==0 and i%y==0):\n",
    "        print('the LCM is',i)\n",
    "        break"
   ]
  },
  {
   "cell_type": "code",
   "execution_count": 48,
   "id": "d7225fc0",
   "metadata": {},
   "outputs": [
    {
     "name": "stdout",
     "output_type": "stream",
     "text": [
      "insert first integer:25\n",
      "insert second integer:25\n",
      "insert third integer:5\n",
      "the sum become 0\n"
     ]
    }
   ],
   "source": [
    "#15. Write a Python program to sum of three given integers. However, if two values are equal sum will be zero.\n",
    "firx=int(input('insert first integer:'))\n",
    "secy=int(input('insert second integer:'))\n",
    "thir=int(input('insert third integer:'))\n",
    "if (firx==secy or firx==thir or secy==thir):\n",
    "    sum=0\n",
    "    print('the sum become',sum)\n",
    "else:\n",
    "    sum=firx+secy+thir\n",
    "    print('the sum is equal to',sum)"
   ]
  },
  {
   "cell_type": "code",
   "execution_count": 51,
   "id": "12bfc12b",
   "metadata": {},
   "outputs": [
    {
     "name": "stdout",
     "output_type": "stream",
     "text": [
      "49\n"
     ]
    }
   ],
   "source": [
    "#16.Write a Python program to solve (x + y) * (x + y).\n",
    "#Sample Data : x = 4, y = 3\n",
    "#Expected Output : (4 + 3) ^ 2) = 49\n",
    "x=4\n",
    "y=3\n",
    "total=(x+y)*(x+y)\n",
    "print(total)"
   ]
  },
  {
   "cell_type": "code",
   "execution_count": 53,
   "id": "ec523e88",
   "metadata": {},
   "outputs": [
    {
     "name": "stdout",
     "output_type": "stream",
     "text": [
      "12722.79\n"
     ]
    }
   ],
   "source": [
    "#17.Write a Python program to compute the future value of a specified principal amount, rate of interest, and a number of years.\n",
    "#Sample Data : amt = 10000, int = 3.5, years = 7\n",
    "#Expected Output : 12722.79\n",
    "amt=10000\n",
    "int=3.5\n",
    "years=7\n",
    "futval=amt*((1+(0.01*int))**years)\n",
    "print(round(futval,2))"
   ]
  },
  {
   "cell_type": "code",
   "execution_count": 1,
   "id": "ed5f25d9",
   "metadata": {},
   "outputs": [
    {
     "name": "stdout",
     "output_type": "stream",
     "text": [
      "enter x1:-19\n",
      "enter x2:17\n",
      "enter y1:8\n",
      "enter y2:5\n",
      "the distance between (-19, 17) and (8, 5) is: 36.124783736376884\n"
     ]
    }
   ],
   "source": [
    "#18.Write a Python program to compute the distance between the points (x1, y1) and (x2, y2).\n",
    "x1=int(input('enter x1:'))\n",
    "x2=int(input('enter x2:'))\n",
    "y1=int(input('enter y1:'))\n",
    "y2=int(input('enter y2:'))\n",
    "ans=float((((x2-x1)**2)+((y2-y1)**2))**0.5)\n",
    "print('the distance between',(x1,x2),'and',(y1,y2),'is:',ans)"
   ]
  },
  {
   "cell_type": "code",
   "execution_count": 4,
   "id": "e6769783",
   "metadata": {},
   "outputs": [
    {
     "name": "stdout",
     "output_type": "stream",
     "text": [
      "input a number:21\n",
      "sum of the first 21 positive integers: 231\n"
     ]
    }
   ],
   "source": [
    "#19.Write a python program to sum of the first n positive integers.\n",
    "n=int(input('input a number:'))\n",
    "snum=(n*(n+1))//2\n",
    "print('sum of the first', n ,'positive integers:', snum)"
   ]
  },
  {
   "cell_type": "code",
   "execution_count": 7,
   "id": "d4c319d5",
   "metadata": {},
   "outputs": [
    {
     "name": "stdout",
     "output_type": "stream",
     "text": [
      "input your height:\n",
      "feet:6\n",
      "inches:2\n",
      "your height is : 187.96 cm\n"
     ]
    }
   ],
   "source": [
    "#20.Write a Python program to convert height (in feet and inches) to centimeters.\n",
    "print('input your height:')\n",
    "feet=int(input('feet:'))\n",
    "inch=int(input('inches:'))\n",
    "inch+=feet*12\n",
    "cm=(inch*2.54)\n",
    "print('your height is :',cm,'cm')"
   ]
  },
  {
   "cell_type": "code",
   "execution_count": 59,
   "id": "55ea9802",
   "metadata": {},
   "outputs": [
    {
     "name": "stdout",
     "output_type": "stream",
     "text": [
      "input lengths of right angled triangle sides:\n",
      "a:4\n",
      "b:5\n",
      "the length of the hypotenuse is: 6.4031242374328485\n"
     ]
    }
   ],
   "source": [
    "#21.Write a Python program to calculate the hypotenuse of a right angled triangle.\n",
    "print('input lengths of right angled triangle sides:')\n",
    "a=float(input('a:'))\n",
    "b=float(input('b:'))\n",
    "c=sqrt(a**2+b**2)\n",
    "print('the length of the hypotenuse is:',c)"
   ]
  },
  {
   "cell_type": "code",
   "execution_count": 9,
   "id": "7e178699",
   "metadata": {},
   "outputs": [
    {
     "name": "stdout",
     "output_type": "stream",
     "text": [
      "input your height in meter:1.80\n",
      "input your weight in kilogram:65\n",
      "Your body mass index is: 20.06\n"
     ]
    }
   ],
   "source": [
    "#22.Write a Python program to calculate body mass index.\n",
    "m=float(input('input your height in meter:'))\n",
    "kg=float(input('input your weight in kilogram:'))\n",
    "bmi=round(kg/(m**2),2)\n",
    "print('Your body mass index is:',bmi)"
   ]
  },
  {
   "cell_type": "code",
   "execution_count": 2,
   "id": "ec6fabc7",
   "metadata": {},
   "outputs": [
    {
     "name": "stdout",
     "output_type": "stream",
     "text": [
      "The value of x (the first endpoint):-3\n",
      "The value of y (the first endpoint):5\n",
      "The value of x (the second endpoint):2\n",
      "The value of y (the second endpoint):1\n",
      "The midpoint x value is: -1\n",
      "The midpoint y value is: 3\n",
      "The midpoint of line is:( -1 , 3 )\n"
     ]
    }
   ],
   "source": [
    "#23.Write a Python program to calculate midpoints of a line.\n",
    "x1=int(input('The value of x (the first endpoint):'))\n",
    "y1=int(input('The value of y (the first endpoint):'))\n",
    "x2=int(input('The value of x (the second endpoint):'))\n",
    "y2=int(input('The value of y (the second endpoint):'))\n",
    "xmp=(x1+x2)//2\n",
    "ymp=(y1+y2)//2\n",
    "print('The midpoint x value is:',xmp)\n",
    "print('The midpoint y value is:',ymp)\n",
    "print('The midpoint of line is:(',xmp,',',ymp,')')"
   ]
  },
  {
   "cell_type": "code",
   "execution_count": 12,
   "id": "8446f281",
   "metadata": {},
   "outputs": [
    {
     "name": "stdout",
     "output_type": "stream",
     "text": [
      "[2002, 2009, 2016, 2023, 2037, 2044, 2051, 2058, 2072, 2079, 2086, 2093, 2107, 2114, 2121, 2128, 2142, 2149, 2156, 2163, 2177, 2184, 2191, 2198, 2212, 2219, 2226, 2233, 2247, 2254, 2261, 2268, 2282, 2289, 2296, 2303, 2317, 2324, 2331, 2338, 2352, 2359, 2366, 2373, 2387, 2394, 2401, 2408, 2422, 2429, 2436, 2443, 2457, 2464, 2471, 2478, 2492, 2499, 2506, 2513, 2527, 2534, 2541, 2548, 2562, 2569, 2576, 2583, 2597, 2604, 2611, 2618, 2632, 2639, 2646, 2653, 2667, 2674, 2681, 2688, 2702, 2709, 2716, 2723, 2737, 2744, 2751, 2758, 2772, 2779, 2786, 2793, 2807, 2814, 2821, 2828, 2842, 2849, 2856, 2863, 2877, 2884, 2891, 2898, 2912, 2919, 2926, 2933, 2947, 2954, 2961, 2968, 2982, 2989, 2996, 3003, 3017, 3024, 3031, 3038, 3052, 3059, 3066, 3073, 3087, 3094, 3101, 3108, 3122, 3129, 3136, 3143, 3157, 3164, 3171, 3178, 3192, 3199]\n"
     ]
    }
   ],
   "source": [
    "#24.Write a program which will find all such numbers which are divisible by 7 but are not a multiple of 5, between 2000 and\n",
    "#3200 (both included). The numbers obtained should be printed in a comma-separated sequence on a single line.\n",
    "#Hints:\n",
    "#Consider use range(#begin, #end) method\n",
    "x=[x for x in range(2000,3200)\n",
    "if (x%7==0)and(x%5!=0)]\n",
    "print (x)"
   ]
  }
 ],
 "metadata": {
  "kernelspec": {
   "display_name": "Python 3 (ipykernel)",
   "language": "python",
   "name": "python3"
  },
  "language_info": {
   "codemirror_mode": {
    "name": "ipython",
    "version": 3
   },
   "file_extension": ".py",
   "mimetype": "text/x-python",
   "name": "python",
   "nbconvert_exporter": "python",
   "pygments_lexer": "ipython3",
   "version": "3.8.1"
  }
 },
 "nbformat": 4,
 "nbformat_minor": 5
}
