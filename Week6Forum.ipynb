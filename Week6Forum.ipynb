{
 "cells": [
  {
   "cell_type": "code",
   "execution_count": 2,
   "id": "e7c09c8d",
   "metadata": {},
   "outputs": [
    {
     "name": "stdout",
     "output_type": "stream",
     "text": [
      "105\n"
     ]
    }
   ],
   "source": [
    "#Dictionaries basics Practice 1\n",
    "residents = {'Puffin' : 104, 'Sloth' : 105, 'Burmese Python' : 106} \n",
    "print (residents['Sloth']) "
   ]
  },
  {
   "cell_type": "code",
   "execution_count": 5,
   "id": "62ba0967",
   "metadata": {},
   "outputs": [
    {
     "name": "stdout",
     "output_type": "stream",
     "text": [
      "16.78\n",
      "6.78\n",
      "9.98\n",
      "There are 3 items on the menu.\n",
      "{'Sunday': 16.78, 'Monday': 6.78, 'Tuesday': 9.98}\n"
     ]
    }
   ],
   "source": [
    "#Dictionaries basics Practice 2\n",
    "menu = {} \n",
    "menu['Sunday']=16.78 \n",
    "print (menu['Sunday']) \n",
    "menu['Monday']=6.78 \n",
    "print (menu['Monday'])\n",
    "menu['Tuesday']= 9.98\n",
    "print (menu['Tuesday'])\n",
    "print (\"There are \" + str(len(menu)) + \" items on the menu.\") \n",
    "print (menu)         "
   ]
  },
  {
   "cell_type": "code",
   "execution_count": 8,
   "id": "2f161f9c",
   "metadata": {},
   "outputs": [
    {
     "name": "stdout",
     "output_type": "stream",
     "text": [
      "{'Unicorn': 'Cotton Candy House', 'Atlantic Puffin': 'Arctic Exhibit', 'Rockhopper Penguin': 'Arctic Exhibit'}\n",
      "{'Unicorn': 'Cotton Candy House', 'Atlantic Puffin': 'Arctic Exhibit', 'Rockhopper Penguin': 'Arctic Dance'}\n"
     ]
    }
   ],
   "source": [
    "#Dictionaries basics Practice 3\n",
    "zoo_animals = {'Unicorn' : 'Cotton Candy House', 'Sloth' : 'Rainforest Exhibit', 'Bengal Tiger' : 'Jungle House', \n",
    "               'Atlantic Puffin' : 'Arctic Exhibit', 'Rockhopper Penguin' : 'Arctic Exhibit'}\n",
    "del zoo_animals['Sloth'] \n",
    "del zoo_animals['Bengal Tiger'] \n",
    "print (zoo_animals) \n",
    "zoo_animals['Rockhopper Penguin'] = 'Arctic Dance'\n",
    "print (zoo_animals) "
   ]
  },
  {
   "cell_type": "code",
   "execution_count": 9,
   "id": "dd93c2c5",
   "metadata": {},
   "outputs": [
    {
     "name": "stdout",
     "output_type": "stream",
     "text": [
      "A star of a popular children's cartoon show.\n",
      "The sound a goat makes.\n",
      "Goes on the floor.\n",
      "A small amount.\n"
     ]
    }
   ],
   "source": [
    "#Dictionaries basics Practice 4\n",
    "webster = {\"Aardvark\" : \"A star of a popular children's cartoon show.\", \"Baa\" : \"The sound a goat makes.\", \n",
    "           \"Carpet\": \"Goes on the floor.\", \"Dab\": \"A small amount.\"}\n",
    "for key in webster :\n",
    "    print (webster[key])"
   ]
  },
  {
   "cell_type": "code",
   "execution_count": 62,
   "id": "30c882f3",
   "metadata": {},
   "outputs": [
    {
     "name": "stdout",
     "output_type": "stream",
     "text": [
      "[('string', 'string of char'), ('bolean', True), ('integer', 3)]\n",
      "['string', 'bolean', 'integer']\n",
      "['string of char', True, 3]\n",
      "string string of char\n",
      "bolean True\n",
      "integer 3\n"
     ]
    }
   ],
   "source": [
    "#Dictionaries basics Practice 5\n",
    "my_dict = {\"string\":\"string of char\", \"bolean\":True, \"integer\":3}\n",
    "print (list(my_dict.items()))\n",
    "print (list(my_dict.keys())) \n",
    "print (list(my_dict.values()))\n",
    "for key in my_dict: \n",
    "    print (key, my_dict[key]) "
   ]
  },
  {
   "cell_type": "code",
   "execution_count": 32,
   "id": "36be2c05",
   "metadata": {},
   "outputs": [
    {
     "name": "stdout",
     "output_type": "stream",
     "text": [
      "{'gold': 550, 'pouch': ['flint', 'twine', 'gemstone'], 'backpack': ['bedroll', 'bread loaf', 'xylophone'], 'pocket': ['seashell', 'strange berry', 'lint']}\n"
     ]
    }
   ],
   "source": [
    "#Forum Exercise 1\n",
    "inventory = {'gold' : 500, 'pouch' : ['flint', 'twine', 'gemstone'], \n",
    "            'backpack' : ['xylophone','dagger', 'bedroll','bread loaf']} \n",
    "inventory ['pocket'] = ['seashell', 'strange berry', 'lint']\n",
    "inventory ['backpack'].sort()\n",
    "inventory ['backpack'].remove ('dagger')\n",
    "inventory ['gold'] +=50\n",
    "print (inventory)"
   ]
  },
  {
   "cell_type": "code",
   "execution_count": 109,
   "id": "30ff055f",
   "metadata": {},
   "outputs": [
    {
     "name": "stdout",
     "output_type": "stream",
     "text": [
      "banana : 4 stock: 6\n",
      "apple : 2 stock: 0\n",
      "orange : 1.5 stock: 32\n",
      "pear : 3 stock: 15\n",
      "total: 117.0\n"
     ]
    }
   ],
   "source": [
    "#Forum Exercise 2\n",
    "prices = { \"banana\": 4, \"apple\": 2, \"orange\": 1.5, \"pear\": 3}\n",
    "stock = { \"banana\": 6, \"apple\": 0, \"orange\": 32, \"pear\": 15} \n",
    "total = 0\n",
    "for key in prices :\n",
    "    print (key, ':', prices[key], 'stock:', stock[key])\n",
    "    total += prices[key]*stock[key]\n",
    "print ('total:', total)"
   ]
  },
  {
   "cell_type": "code",
   "execution_count": 68,
   "id": "7ba62fa3",
   "metadata": {},
   "outputs": [
    {
     "name": "stdout",
     "output_type": "stream",
     "text": [
      "total: 5.5\n"
     ]
    }
   ],
   "source": [
    "#Forum Exercise 3\n",
    "groceries = [\"banana\", \"orange\", \"apple\"]\n",
    "stock = {\"banana\": 6, \"apple\": 0, \"orange\": 32, \"pear\": 15} \n",
    "prices= {\"banana\": 4, \"apple\": 2, \"orange\": 1.5, \"pear\": 3}\n",
    "def compute_bill(food):\n",
    "    total = 0\n",
    "    for key in food:\n",
    "        if stock[key] > 0:\n",
    "            total += prices[key]\n",
    "            stock[key] -= 1\n",
    "    return total\n",
    "print ('total:', compute_bill(groceries))"
   ]
  },
  {
   "cell_type": "code",
   "execution_count": 61,
   "id": "aba07e8e",
   "metadata": {},
   "outputs": [
    {
     "name": "stdout",
     "output_type": "stream",
     "text": [
      "Eren : [90.0, 97.0, 75.0, 92.0] , [88.0, 40.0, 94.0] , [75.0, 90.0]\n",
      "Mikasa : [100.0, 92.0, 98.0, 100.0] , [82.0, 83.0, 91.0] , [89.0, 97.0]\n",
      "Armin : [0.0, 87.0, 75.0, 22.0] , [0.0, 75.0, 78.0] , [100.0, 100.0]\n",
      "Class average score: 83.86666666666666\n",
      "Class average grade: B\n"
     ]
    }
   ],
   "source": [
    "#Forum Exercise 4\n",
    "eren = { \"name\": \"Eren\", \"homework\": [90.0,97.0,75.0,92.0], \"quizzes\": [88.0,40.0,94.0], \"tests\": [75.0,90.0] } \n",
    "mikasa = {  \"name\": \"Mikasa\", \"homework\": [100.0, 92.0, 98.0, 100.0], \"quizzes\": [82.0, 83.0, 91.0], \"tests\": [89.0, 97.0] }  \n",
    "armin = { \"name\": \"Armin\", \"homework\": [0.0, 87.0, 75.0, 22.0], \"quizzes\": [0.0, 75.0, 78.0], \"tests\": [100.0, 100.0] } \n",
    "students = [eren, mikasa, armin]\n",
    "for i in students :\n",
    "    print (i['name'], ':', i['homework'], ',', i['quizzes'], ',', i['tests'])\n",
    "def average (numbers) :\n",
    "    total = sum(numbers)\n",
    "    total = float (total)\n",
    "    total = total / len(numbers)\n",
    "    return total\n",
    "def get_average(student):\n",
    "    homework = average(student['homework'])\n",
    "    quizzes = average(student['quizzes'])\n",
    "    tests = average(student['tests'])\n",
    "    homework *= 10/100\n",
    "    quizzes *= 30/100\n",
    "    tests *= 60/100\n",
    "    sum_three = homework + quizzes + tests\n",
    "    return sum_three\n",
    "def get_letter_grade (score) :\n",
    "    if (score >= 90) :\n",
    "        return 'A'\n",
    "    elif (80 <= score <= 90) :\n",
    "        return 'B'\n",
    "    elif (70 <= score <= 80) :\n",
    "        return 'C'\n",
    "    elif (60 <= score <= 70) :\n",
    "        return 'D'\n",
    "    elif (score < 60) :\n",
    "        return 'F'\n",
    "def get_class_average (students) :\n",
    "    results = []\n",
    "    for item in students:\n",
    "        results.append(get_average(item))\n",
    "    return average(results)\n",
    "print ('Class average score:', get_class_average(students))\n",
    "print ('Class average grade:', get_letter_grade(get_class_average(students)))"
   ]
  },
  {
   "cell_type": "code",
   "execution_count": 74,
   "id": "871f73b2",
   "metadata": {},
   "outputs": [
    {
     "name": "stdout",
     "output_type": "stream",
     "text": [
      "2\n"
     ]
    }
   ],
   "source": [
    "#Review questions no.1\n",
    "d = {'a':0, 'b':1, 'c':2} \n",
    "print(d['c'])\n",
    "#Answer is B"
   ]
  },
  {
   "cell_type": "code",
   "execution_count": 76,
   "id": "f5f50dec",
   "metadata": {},
   "outputs": [
    {
     "ename": "KeyError",
     "evalue": "2",
     "output_type": "error",
     "traceback": [
      "\u001b[1;31m------------------------------------------------------------------------\u001b[0m",
      "\u001b[1;31mKeyError\u001b[0m                               Traceback (most recent call last)",
      "Cell \u001b[1;32mIn [76], line 3\u001b[0m\n\u001b[0;32m      1\u001b[0m \u001b[38;5;66;03m#Review questions no.2\u001b[39;00m\n\u001b[0;32m      2\u001b[0m d \u001b[38;5;241m=\u001b[39m {\u001b[38;5;124m'\u001b[39m\u001b[38;5;124ma\u001b[39m\u001b[38;5;124m'\u001b[39m : \u001b[38;5;241m0\u001b[39m, \u001b[38;5;124m'\u001b[39m\u001b[38;5;124mb\u001b[39m\u001b[38;5;124m'\u001b[39m: \u001b[38;5;241m1\u001b[39m, \u001b[38;5;124m'\u001b[39m\u001b[38;5;124mc\u001b[39m\u001b[38;5;124m'\u001b[39m : \u001b[38;5;241m2\u001b[39m} \n\u001b[1;32m----> 3\u001b[0m \u001b[38;5;28mprint\u001b[39m(d[\u001b[38;5;241m2\u001b[39m])\n",
      "\u001b[1;31mKeyError\u001b[0m: 2"
     ]
    }
   ],
   "source": [
    "#Review questions no.2\n",
    "d = {'a' : 0, 'b': 1, 'c' : 2} \n",
    "print(d[2])\n",
    "#Answer is E"
   ]
  },
  {
   "cell_type": "code",
   "execution_count": 77,
   "id": "bbdbfe65",
   "metadata": {},
   "outputs": [
    {
     "name": "stdout",
     "output_type": "stream",
     "text": [
      "c\n"
     ]
    }
   ],
   "source": [
    "#Review question no.3\n",
    "d = {'a' : 0, 'b': 1, 'c' : 2} \n",
    "print(d.get(2, 'c'))\n",
    "#Answer is A"
   ]
  },
  {
   "cell_type": "code",
   "execution_count": 79,
   "id": "3f4d0ecc",
   "metadata": {},
   "outputs": [
    {
     "name": "stdout",
     "output_type": "stream",
     "text": [
      "0 1 2 "
     ]
    }
   ],
   "source": [
    "#Review question no.4\n",
    "d = {'a' : 0, 'b': 1, 'c' : 2} \n",
    "for x in sorted(d): \n",
    "    print(d[x], end=\" \") \n",
    "#Answer is B"
   ]
  },
  {
   "cell_type": "code",
   "execution_count": 80,
   "id": "340f6b39",
   "metadata": {},
   "outputs": [
    {
     "name": "stdout",
     "output_type": "stream",
     "text": [
      "0 1 2 "
     ]
    }
   ],
   "source": [
    "#Review question no.5\n",
    "d = {'a' : 0, 'b': 1, 'c' : 2} \n",
    "for x in sorted(d.values()): \n",
    "    print(x, end=\" \") \n",
    "#Answer is B"
   ]
  },
  {
   "cell_type": "code",
   "execution_count": 81,
   "id": "88b2d04c",
   "metadata": {},
   "outputs": [
    {
     "name": "stdout",
     "output_type": "stream",
     "text": [
      "('a', 0) ('b', 1) ('c', 2) "
     ]
    }
   ],
   "source": [
    "#Review question no.6\n",
    "d = {'a' : 0, 'b': 1, 'c' : 2} \n",
    "for x in sorted(d.items()): \n",
    "    print(x, end=\" \") \n",
    "#Answer is C"
   ]
  },
  {
   "cell_type": "code",
   "execution_count": 82,
   "id": "78dda21c",
   "metadata": {},
   "outputs": [
    {
     "name": "stdout",
     "output_type": "stream",
     "text": [
      "a b c "
     ]
    }
   ],
   "source": [
    "#Review question no.7\n",
    "d = {'a' : 0, 'b': 1, 'c' : 2} \n",
    "for x in sorted(d.keys()): \n",
    "    print(x, end=\" \") \n",
    "#Answer is A"
   ]
  },
  {
   "cell_type": "code",
   "execution_count": 84,
   "id": "6bc34c1c",
   "metadata": {},
   "outputs": [
    {
     "name": "stdout",
     "output_type": "stream",
     "text": [
      "dc\n"
     ]
    }
   ],
   "source": [
    "#Review question no.8\n",
    "pres = {'george' : 'washington', 'thomas' : 'jefferson','john' : 'adams'} \n",
    "print(pres.get('washington', 'dc')) \n",
    "#Answer is C"
   ]
  },
  {
   "cell_type": "code",
   "execution_count": 85,
   "id": "76ae92af",
   "metadata": {},
   "outputs": [
    {
     "name": "stdout",
     "output_type": "stream",
     "text": [
      "george john thomas "
     ]
    }
   ],
   "source": [
    "#Review question no.9\n",
    "pres = {'george' : 'washington', 'thomas' : 'jefferson','john' : 'adams'} \n",
    "for p in sorted(pres): \n",
    "    print(p, end=\" \") \n",
    "#Answer is B"
   ]
  }
 ],
 "metadata": {
  "kernelspec": {
   "display_name": "Python 3 (ipykernel)",
   "language": "python",
   "name": "python3"
  },
  "language_info": {
   "codemirror_mode": {
    "name": "ipython",
    "version": 3
   },
   "file_extension": ".py",
   "mimetype": "text/x-python",
   "name": "python",
   "nbconvert_exporter": "python",
   "pygments_lexer": "ipython3",
   "version": "3.8.1"
  }
 },
 "nbformat": 4,
 "nbformat_minor": 5
}
